{
 "cells": [
  {
   "cell_type": "code",
   "execution_count": 1,
   "outputs": [],
   "source": [
    "\n",
    "#!pip install pandas\n",
    "#!pip install matplotlib\n",
    "#!pip install pillow"
   ],
   "metadata": {
    "collapsed": false
   }
  },
  {
   "cell_type": "code",
   "execution_count": 2,
   "metadata": {
    "collapsed": true
   },
   "outputs": [],
   "source": [
    "#Import bibliotek\n",
    "import matplotlib.pyplot as ptl\n",
    "import pandas as pd\n",
    "import matplotlib.pyplot as ptl\n",
    "\n"
   ]
  },
  {
   "cell_type": "code",
   "execution_count": 2,
   "outputs": [],
   "source": [],
   "metadata": {
    "collapsed": false
   }
  },
  {
   "cell_type": "code",
   "execution_count": 3,
   "outputs": [
    {
     "data": {
      "text/plain": "     lesion_id      image_id   dx dx_type   age   sex localization  \\\n0  HAM_0000118  ISIC_0027419  bkl   histo  80.0  male        scalp   \n1  HAM_0000118  ISIC_0025030  bkl   histo  80.0  male        scalp   \n2  HAM_0002730  ISIC_0026769  bkl   histo  80.0  male        scalp   \n3  HAM_0002730  ISIC_0025661  bkl   histo  80.0  male        scalp   \n4  HAM_0001466  ISIC_0031633  bkl   histo  75.0  male          ear   \n\n        dataset  \n0  vidir_modern  \n1  vidir_modern  \n2  vidir_modern  \n3  vidir_modern  \n4  vidir_modern  ",
      "text/html": "<div>\n<style scoped>\n    .dataframe tbody tr th:only-of-type {\n        vertical-align: middle;\n    }\n\n    .dataframe tbody tr th {\n        vertical-align: top;\n    }\n\n    .dataframe thead th {\n        text-align: right;\n    }\n</style>\n<table border=\"1\" class=\"dataframe\">\n  <thead>\n    <tr style=\"text-align: right;\">\n      <th></th>\n      <th>lesion_id</th>\n      <th>image_id</th>\n      <th>dx</th>\n      <th>dx_type</th>\n      <th>age</th>\n      <th>sex</th>\n      <th>localization</th>\n      <th>dataset</th>\n    </tr>\n  </thead>\n  <tbody>\n    <tr>\n      <th>0</th>\n      <td>HAM_0000118</td>\n      <td>ISIC_0027419</td>\n      <td>bkl</td>\n      <td>histo</td>\n      <td>80.0</td>\n      <td>male</td>\n      <td>scalp</td>\n      <td>vidir_modern</td>\n    </tr>\n    <tr>\n      <th>1</th>\n      <td>HAM_0000118</td>\n      <td>ISIC_0025030</td>\n      <td>bkl</td>\n      <td>histo</td>\n      <td>80.0</td>\n      <td>male</td>\n      <td>scalp</td>\n      <td>vidir_modern</td>\n    </tr>\n    <tr>\n      <th>2</th>\n      <td>HAM_0002730</td>\n      <td>ISIC_0026769</td>\n      <td>bkl</td>\n      <td>histo</td>\n      <td>80.0</td>\n      <td>male</td>\n      <td>scalp</td>\n      <td>vidir_modern</td>\n    </tr>\n    <tr>\n      <th>3</th>\n      <td>HAM_0002730</td>\n      <td>ISIC_0025661</td>\n      <td>bkl</td>\n      <td>histo</td>\n      <td>80.0</td>\n      <td>male</td>\n      <td>scalp</td>\n      <td>vidir_modern</td>\n    </tr>\n    <tr>\n      <th>4</th>\n      <td>HAM_0001466</td>\n      <td>ISIC_0031633</td>\n      <td>bkl</td>\n      <td>histo</td>\n      <td>75.0</td>\n      <td>male</td>\n      <td>ear</td>\n      <td>vidir_modern</td>\n    </tr>\n  </tbody>\n</table>\n</div>"
     },
     "execution_count": 3,
     "metadata": {},
     "output_type": "execute_result"
    }
   ],
   "source": [
    "# Załadowanie danych\n",
    "file_path = 'data/HAM10000_metadata.csv'\n",
    "\n",
    "df = pd.read_csv(file_path, sep=',')\n",
    "df.head()"
   ],
   "metadata": {
    "collapsed": false
   }
  },
  {
   "cell_type": "code",
   "execution_count": 5,
   "outputs": [],
   "source": [
    "# Usunięcie niepotrzebnych kolumn\n",
    "relevant_columns = ['lesion_id', 'image_id', 'dx', 'age','sex','localization']\n",
    "df = df[relevant_columns]"
   ],
   "metadata": {
    "collapsed": false
   }
  },
  {
   "cell_type": "code",
   "execution_count": 6,
   "outputs": [
    {
     "data": {
      "text/plain": "     lesion_id      image_id   dx   age   sex localization\n0  HAM_0000118  ISIC_0027419  bkl  80.0  male        scalp\n1  HAM_0000118  ISIC_0025030  bkl  80.0  male        scalp\n2  HAM_0002730  ISIC_0026769  bkl  80.0  male        scalp\n3  HAM_0002730  ISIC_0025661  bkl  80.0  male        scalp\n4  HAM_0001466  ISIC_0031633  bkl  75.0  male          ear",
      "text/html": "<div>\n<style scoped>\n    .dataframe tbody tr th:only-of-type {\n        vertical-align: middle;\n    }\n\n    .dataframe tbody tr th {\n        vertical-align: top;\n    }\n\n    .dataframe thead th {\n        text-align: right;\n    }\n</style>\n<table border=\"1\" class=\"dataframe\">\n  <thead>\n    <tr style=\"text-align: right;\">\n      <th></th>\n      <th>lesion_id</th>\n      <th>image_id</th>\n      <th>dx</th>\n      <th>age</th>\n      <th>sex</th>\n      <th>localization</th>\n    </tr>\n  </thead>\n  <tbody>\n    <tr>\n      <th>0</th>\n      <td>HAM_0000118</td>\n      <td>ISIC_0027419</td>\n      <td>bkl</td>\n      <td>80.0</td>\n      <td>male</td>\n      <td>scalp</td>\n    </tr>\n    <tr>\n      <th>1</th>\n      <td>HAM_0000118</td>\n      <td>ISIC_0025030</td>\n      <td>bkl</td>\n      <td>80.0</td>\n      <td>male</td>\n      <td>scalp</td>\n    </tr>\n    <tr>\n      <th>2</th>\n      <td>HAM_0002730</td>\n      <td>ISIC_0026769</td>\n      <td>bkl</td>\n      <td>80.0</td>\n      <td>male</td>\n      <td>scalp</td>\n    </tr>\n    <tr>\n      <th>3</th>\n      <td>HAM_0002730</td>\n      <td>ISIC_0025661</td>\n      <td>bkl</td>\n      <td>80.0</td>\n      <td>male</td>\n      <td>scalp</td>\n    </tr>\n    <tr>\n      <th>4</th>\n      <td>HAM_0001466</td>\n      <td>ISIC_0031633</td>\n      <td>bkl</td>\n      <td>75.0</td>\n      <td>male</td>\n      <td>ear</td>\n    </tr>\n  </tbody>\n</table>\n</div>"
     },
     "execution_count": 6,
     "metadata": {},
     "output_type": "execute_result"
    }
   ],
   "source": [
    "df.head()"
   ],
   "metadata": {
    "collapsed": false
   }
  },
  {
   "cell_type": "code",
   "execution_count": 7,
   "outputs": [
    {
     "data": {
      "text/plain": "lesion_id        0\nimage_id         0\ndx               0\nage             57\nsex              0\nlocalization     0\ndtype: int64"
     },
     "execution_count": 7,
     "metadata": {},
     "output_type": "execute_result"
    }
   ],
   "source": [
    "# Sprawdzenie wartości Null\n",
    "df.isnull().sum()"
   ],
   "metadata": {
    "collapsed": false
   }
  },
  {
   "cell_type": "code",
   "execution_count": 8,
   "outputs": [
    {
     "data": {
      "text/plain": "lesion_id       0\nimage_id        0\ndx              0\nage             0\nsex             0\nlocalization    0\ndtype: int64"
     },
     "execution_count": 8,
     "metadata": {},
     "output_type": "execute_result"
    }
   ],
   "source": [
    "#Czyszczenie danych\n",
    "df = df.dropna(subset=['age'])\n",
    "df.isnull().sum()"
   ],
   "metadata": {
    "collapsed": false
   }
  },
  {
   "cell_type": "code",
   "execution_count": 9,
   "outputs": [
    {
     "data": {
      "text/plain": "0"
     },
     "execution_count": 9,
     "metadata": {},
     "output_type": "execute_result"
    }
   ],
   "source": [
    "# Sprawdzenie duplikatów na podstawie wybranych kolumn\n",
    "duplikaty_kolumny = df.duplicated(subset=['image_id'])\n",
    "duplikaty_kolumny.sum()"
   ],
   "metadata": {
    "collapsed": false
   }
  },
  {
   "cell_type": "code",
   "execution_count": 10,
   "outputs": [
    {
     "name": "stdout",
     "output_type": "stream",
     "text": [
      "0.0\n",
      "85.0\n"
     ]
    }
   ],
   "source": [
    "# Sprawdzenie minimalnej wartości\n",
    "min_age = df['age'].min()\n",
    "print(min_age)\n",
    "# Sprawdzenie maksymalnej wartości\n",
    "max_age = df['age'].max()\n",
    "print(max_age)\n"
   ],
   "metadata": {
    "collapsed": false
   }
  },
  {
   "cell_type": "code",
   "execution_count": 11,
   "outputs": [],
   "source": [
    "sex_counts = df['sex'].value_counts()\n",
    "sex_counts\n",
    "# Usuwanie wierszy z 'unknown' w zmiennej 'sex'\n",
    "df = df[df['sex'] != 'unknown']\n",
    "# Usuwanie wierszy z 'unknown' w zmiennej 'localization'\n",
    "df = df[df['localization'] != 'unknown']"
   ],
   "metadata": {
    "collapsed": false
   }
  },
  {
   "cell_type": "code",
   "execution_count": 12,
   "outputs": [
    {
     "name": "stdout",
     "output_type": "stream",
     "text": [
      "Unikalne rozdzielczości: {(600, 450)}\n"
     ]
    }
   ],
   "source": [
    "from PIL import Image\n",
    "import os\n",
    "\n",
    "# Ścieżki do katalogów z obrazami\n",
    "image_directory1 = '/Users/patrycjakubas/Desktop/Magisterka/CNN_HAM1000/data/HAM10000_images_part_1'\n",
    "image_directory2 = '/Users/patrycjakubas/Desktop/Magisterka/CNN_HAM1000/data/HAM10000_images_part_1'\n",
    "\n",
    "# Łączenie list plików z obu katalogów\n",
    "files = os.listdir(image_directory1) + os.listdir(image_directory2)\n",
    "\n",
    "# Tablica do przechowywania rozdzielczości\n",
    "resolutions = []\n",
    "\n",
    "# Sprawdzenie rozdzielczości wszystkich obrazów z obu katalogów\n",
    "for filename in files:\n",
    "    if filename.endswith(\".jpg\") or filename.endswith(\".png\"):\n",
    "        # Sprawdzenie, który folder zawiera plik\n",
    "        if filename in os.listdir(image_directory1):\n",
    "            img = Image.open(os.path.join(image_directory1, filename))\n",
    "        else:\n",
    "            img = Image.open(os.path.join(image_directory2, filename))\n",
    "\n",
    "        resolutions.append(img.size)\n",
    "\n",
    "# Wyświetlenie unikalnych rozdzielczości w obrazach\n",
    "unique_resolutions = set(resolutions)\n",
    "print(f\"Unikalne rozdzielczości: {unique_resolutions}\")"
   ],
   "metadata": {
    "collapsed": false
   }
  },
  {
   "cell_type": "code",
   "execution_count": 17,
   "outputs": [],
   "source": [
    "# Wyświetlenie obrazów, które nie są w formacie .jpg\n",
    "for filename in files:\n",
    "    if not filename.endswith(\".jpg\"):\n",
    "        img = Image.open(os.path.join(image_directory, filename))\n",
    "        print(f\"{filename}: {img.format}\")"
   ],
   "metadata": {
    "collapsed": false
   }
  },
  {
   "cell_type": "code",
   "execution_count": 21,
   "outputs": [],
   "source": [
    "from PIL import Image\n",
    "import os\n",
    "import numpy as np\n",
    "import pandas as pd\n",
    "\n",
    "# Lista do przechowywania wyników\n",
    "histogram_data = []\n",
    "\n",
    "# Przetwarzanie każdego obrazu w folderze\n",
    "for filename in files:\n",
    "    if filename.endswith(\".jpg\") or filename.endswith(\".png\"):\n",
    "        if filename in os.listdir(image_directory1):\n",
    "            img = Image.open(os.path.join(image_directory1, filename)).convert('L')\n",
    "        else:\n",
    "            img = Image.open(os.path.join(image_directory2, filename)).convert('L')\n",
    "        histogram = img.histogram()\n",
    "        histogram_data.append([filename] + histogram)\n",
    "\n",
    "\n"
   ],
   "metadata": {
    "collapsed": false
   }
  },
  {
   "cell_type": "code",
   "execution_count": 12,
   "outputs": [
    {
     "ename": "NameError",
     "evalue": "name 'plt' is not defined",
     "output_type": "error",
     "traceback": [
      "\u001B[0;31m---------------------------------------------------------------------------\u001B[0m",
      "\u001B[0;31mNameError\u001B[0m                                 Traceback (most recent call last)",
      "\u001B[0;32m/var/folders/y5/2z6ljk6d3nbgf1yjf30sgxc80000gn/T/ipykernel_17809/3883104387.py\u001B[0m in \u001B[0;36m<module>\u001B[0;34m\u001B[0m\n\u001B[1;32m      3\u001B[0m \u001B[0;34m\u001B[0m\u001B[0m\n\u001B[1;32m      4\u001B[0m \u001B[0;31m# Tworzenie wykresu słupkowego\u001B[0m\u001B[0;34m\u001B[0m\u001B[0;34m\u001B[0m\u001B[0m\n\u001B[0;32m----> 5\u001B[0;31m \u001B[0mplt\u001B[0m\u001B[0;34m.\u001B[0m\u001B[0mfigure\u001B[0m\u001B[0;34m(\u001B[0m\u001B[0mfigsize\u001B[0m\u001B[0;34m=\u001B[0m\u001B[0;34m(\u001B[0m\u001B[0;36m10\u001B[0m\u001B[0;34m,\u001B[0m \u001B[0;36m6\u001B[0m\u001B[0;34m)\u001B[0m\u001B[0;34m)\u001B[0m\u001B[0;34m\u001B[0m\u001B[0;34m\u001B[0m\u001B[0m\n\u001B[0m\u001B[1;32m      6\u001B[0m \u001B[0mplt\u001B[0m\u001B[0;34m.\u001B[0m\u001B[0mbar\u001B[0m\u001B[0;34m(\u001B[0m\u001B[0mdx_counts\u001B[0m\u001B[0;34m.\u001B[0m\u001B[0mindex\u001B[0m\u001B[0;34m,\u001B[0m \u001B[0mdx_counts\u001B[0m\u001B[0;34m.\u001B[0m\u001B[0mvalues\u001B[0m\u001B[0;34m,\u001B[0m \u001B[0mcolor\u001B[0m\u001B[0;34m=\u001B[0m\u001B[0;34m'skyblue'\u001B[0m\u001B[0;34m)\u001B[0m\u001B[0;34m\u001B[0m\u001B[0;34m\u001B[0m\u001B[0m\n\u001B[1;32m      7\u001B[0m \u001B[0;34m\u001B[0m\u001B[0m\n",
      "\u001B[0;31mNameError\u001B[0m: name 'plt' is not defined"
     ]
    }
   ],
   "source": [
    "# Obliczanie liczby wystąpień dla każdej kategorii w zmiennej 'dx'\n",
    "dx_counts = df['dx'].value_counts()\n",
    "\n",
    "# Tworzenie wykresu słupkowego\n",
    "plt.figure(figsize=(10, 6))\n",
    "plt.bar(dx_counts.index, dx_counts.values, color='skyblue')\n",
    "\n",
    "# Dodanie etykiet i tytułu\n",
    "plt.title('Dystrybucja zmiennej dx', fontsize=16)\n",
    "plt.xlabel('Rodzaj diagnozy (dx)', fontsize=14)\n",
    "plt.ylabel('Liczba wystąpień', fontsize=14)\n",
    "\n",
    "# Wyświetlenie wykresu\n",
    "plt.show()"
   ],
   "metadata": {
    "collapsed": false
   }
  },
  {
   "cell_type": "code",
   "execution_count": null,
   "outputs": [],
   "source": [
    "age_df = df['age']\n",
    "\n",
    "# Tworzenie histogramu\n",
    "plt.figure(figsize=(8, 6))\n",
    "plt.hist(age_df, bins=5, color='skyblue', edgecolor='black')\n",
    "\n",
    "# Dodanie etykiet i tytułu\n",
    "plt.title('Rozkład zmiennej age', fontsize=16)\n",
    "plt.xlabel('Wiek', fontsize=14)\n",
    "plt.ylabel('Liczba wystąpień', fontsize=14)\n",
    "\n",
    "# Wyświetlenie wykresu\n",
    "plt.show()\n"
   ],
   "metadata": {
    "collapsed": false
   }
  },
  {
   "cell_type": "code",
   "execution_count": null,
   "outputs": [],
   "source": [
    "# Obliczanie liczby wystąpień dla każdej kategorii w zmiennej 'sex'\n",
    "sex_counts = df['sex'].value_counts()\n",
    "\n",
    "# Tworzenie wykresu słupkowego\n",
    "plt.figure(figsize=(8, 6))\n",
    "plt.bar(sex_counts.index, sex_counts.values, color='skyblue')\n",
    "\n",
    "# Dodanie etykiet i tytułu\n",
    "plt.title('Rozkład zmiennej sex', fontsize=16)\n",
    "plt.xlabel('Płeć', fontsize=14)\n",
    "plt.ylabel('Liczba wystąpień', fontsize=14)\n",
    "\n",
    "# Wyświetlenie wykresu\n",
    "plt.show()"
   ],
   "metadata": {
    "collapsed": false
   }
  },
  {
   "cell_type": "code",
   "execution_count": null,
   "outputs": [],
   "source": [
    "# Obliczanie liczby wystąpień dla każdej kategorii w zmiennej 'localization'\n",
    "loc_counts = df['localization'].value_counts()\n",
    "\n",
    "# Tworzenie wykresu słupkowego\n",
    "plt.figure(figsize=(8, 6))\n",
    "plt.bar(loc_counts.index, loc_counts.values, color='skyblue')\n",
    "\n",
    "# Dodanie etykiet i tytułu\n",
    "plt.title('Rozkład zmiennej localization', fontsize=16)\n",
    "plt.xlabel('Lokalizacja zmiany', fontsize=14)\n",
    "plt.ylabel('Liczba wystąpień', fontsize=14)\n",
    "\n",
    "# Przekręcenie etykiet na osi X o 45 stopni\n",
    "plt.xticks(rotation=45, ha='right')\n",
    "\n",
    "# Wyświetlenie wykresu\n",
    "plt.show()"
   ],
   "metadata": {
    "collapsed": false
   }
  },
  {
   "cell_type": "code",
   "execution_count": null,
   "outputs": [],
   "source": [
    "loc_counts"
   ],
   "metadata": {
    "collapsed": false
   }
  }
 ],
 "metadata": {
  "kernelspec": {
   "display_name": "Python 3",
   "language": "python",
   "name": "python3"
  },
  "language_info": {
   "codemirror_mode": {
    "name": "ipython",
    "version": 2
   },
   "file_extension": ".py",
   "mimetype": "text/x-python",
   "name": "python",
   "nbconvert_exporter": "python",
   "pygments_lexer": "ipython2",
   "version": "2.7.6"
  }
 },
 "nbformat": 4,
 "nbformat_minor": 0
}
